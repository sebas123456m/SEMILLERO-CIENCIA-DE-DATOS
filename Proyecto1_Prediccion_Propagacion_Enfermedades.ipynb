{
  "nbformat": 4,
  "nbformat_minor": 0,
  "metadata": {
    "colab": {
      "provenance": [],
      "include_colab_link": true
    },
    "kernelspec": {
      "name": "python3",
      "display_name": "Python 3"
    },
    "language_info": {
      "name": "python"
    }
  },
  "cells": [
    {
      "cell_type": "markdown",
      "metadata": {
        "id": "view-in-github",
        "colab_type": "text"
      },
      "source": [
        "<a href=\"https://colab.research.google.com/github/sebas123456m/SEMILLERO-CIENCIA-DE-DATOS/blob/main/Proyecto1_Prediccion_Propagacion_Enfermedades.ipynb\" target=\"_parent\"><img src=\"https://colab.research.google.com/assets/colab-badge.svg\" alt=\"Open In Colab\"/></a>"
      ]
    },
    {
      "cell_type": "markdown",
      "source": [
        "\n",
        "\n",
        "*   Número de registros y variables.\n",
        "*   Descripción de las variables.\n",
        "*   Tipo de variables.\n",
        "*   Identificar porcentaje de valores nulos.\n",
        "*   Identificar valores atípicos.\n",
        "*   Tratamiento de valores atípicos y nulos.\n"
      ],
      "metadata": {
        "id": "Ck4HFvUExIEK"
      }
    },
    {
      "cell_type": "markdown",
      "source": [
        "<h1> Probando git </h1>"
      ],
      "metadata": {
        "id": "JDK1QmqeqlcP"
      }
    },
    {
      "cell_type": "code",
      "execution_count": null,
      "metadata": {
        "id": "KyfPg7TJxG5O"
      },
      "outputs": [],
      "source": [
        "import pandas as pd\n",
        "import matplotlib.pyplot as plt\n",
        "import seaborn as sns\n",
        "from google.colab import drive"
      ]
    },
    {
      "cell_type": "code",
      "source": [
        "# Ruta conecta del archivo CSV\n",
        "drive.mount('/content/drive')\n",
        "datos = pd.read_csv('/content/drive/MyDrive/data/dengue.csv')\n",
        "\n",
        "datos.head(1)\n",
        "print(datos)"
      ],
      "metadata": {
        "colab": {
          "base_uri": "https://localhost:8080/"
        },
        "id": "gmPvj8SN3WdU",
        "outputId": "47e382a6-b82c-4c14-a684-62cb191ce27b"
      },
      "execution_count": null,
      "outputs": [
        {
          "output_type": "stream",
          "name": "stdout",
          "text": [
            "Drive already mounted at /content/drive; to attempt to forcibly remount, call drive.mount(\"/content/drive\", force_remount=True).\n",
            "    city  year  weekofyear week_start_date   ndvi_ne   ndvi_nw   ndvi_se  \\\n",
            "0     sj  2008          18      2008-04-29 -0.018900 -0.018900  0.102729   \n",
            "1     sj  2008          19      2008-05-06 -0.018000 -0.012400  0.082043   \n",
            "2     sj  2008          20      2008-05-13 -0.001500       NaN  0.151083   \n",
            "3     sj  2008          21      2008-05-20       NaN -0.019867  0.124329   \n",
            "4     sj  2008          22      2008-05-27  0.056800  0.039833  0.062267   \n",
            "..   ...   ...         ...             ...       ...       ...       ...   \n",
            "411   iq  2013          22      2013-05-28  0.301471  0.380029  0.280629   \n",
            "412   iq  2013          23      2013-06-04  0.247600  0.296343  0.285371   \n",
            "413   iq  2013          24      2013-06-11  0.238729  0.251029  0.252586   \n",
            "414   iq  2013          25      2013-06-18  0.310429  0.302700  0.406614   \n",
            "415   iq  2013          26      2013-06-25  0.339467  0.240071  0.356943   \n",
            "\n",
            "      ndvi_sw  precipitation_amt_mm  reanalysis_air_temp_k  ...  \\\n",
            "0    0.091200                 78.60             298.492857  ...   \n",
            "1    0.072314                 12.56             298.475714  ...   \n",
            "2    0.091529                  3.66             299.455714  ...   \n",
            "3    0.125686                  0.00             299.690000  ...   \n",
            "4    0.075914                  0.76             299.780000  ...   \n",
            "..        ...                   ...                    ...  ...   \n",
            "411  0.383186                 41.12             297.774286  ...   \n",
            "412  0.350357                 71.52             297.167143  ...   \n",
            "413  0.249771                 78.96             295.831429  ...   \n",
            "414  0.403943                 39.54             295.778571  ...   \n",
            "415  0.273600                 51.80             297.372857  ...   \n",
            "\n",
            "     reanalysis_precip_amt_kg_per_m2  reanalysis_relative_humidity_percent  \\\n",
            "0                              25.37                             78.781429   \n",
            "1                              21.83                             78.230000   \n",
            "2                               4.12                             78.270000   \n",
            "3                               2.20                             73.015714   \n",
            "4                               4.36                             74.084286   \n",
            "..                               ...                                   ...   \n",
            "411                            67.60                             89.990000   \n",
            "412                            45.70                             93.891429   \n",
            "413                            45.22                             94.967143   \n",
            "414                             4.70                             89.057143   \n",
            "415                            27.80                             87.030000   \n",
            "\n",
            "     reanalysis_sat_precip_amt_mm  reanalysis_specific_humidity_g_per_kg  \\\n",
            "0                           78.60                              15.918571   \n",
            "1                           12.56                              15.791429   \n",
            "2                            3.66                              16.674286   \n",
            "3                            0.00                              15.775714   \n",
            "4                            0.76                              16.137143   \n",
            "..                            ...                                    ...   \n",
            "411                         41.12                              17.185714   \n",
            "412                         71.52                              17.448571   \n",
            "413                         78.96                              16.410000   \n",
            "414                         39.54                              15.137143   \n",
            "415                         51.80                              16.148571   \n",
            "\n",
            "     reanalysis_tdtr_k  station_avg_temp_c  station_diur_temp_rng_c  \\\n",
            "0             3.128571           26.528571                 7.057143   \n",
            "1             2.571429           26.071429                 5.557143   \n",
            "2             4.428571           27.928571                 7.785714   \n",
            "3             4.342857           28.057143                 6.271429   \n",
            "4             3.542857           27.614286                 7.085714   \n",
            "..                 ...                 ...                      ...   \n",
            "411          10.100000           27.400000                 9.050000   \n",
            "412           9.657143           27.520000                10.720000   \n",
            "413           7.385714           27.200000                10.075000   \n",
            "414           8.228571           26.700000                 8.480000   \n",
            "415          11.542857           27.350000                 9.675000   \n",
            "\n",
            "     station_max_temp_c  station_min_temp_c  station_precip_mm  \n",
            "0                  33.3                21.7               75.2  \n",
            "1                  30.0                22.2               34.3  \n",
            "2                  32.8                22.8                3.0  \n",
            "3                  33.3                24.4                0.3  \n",
            "4                  33.3                23.3               84.1  \n",
            "..                  ...                 ...                ...  \n",
            "411                32.6                21.8               33.0  \n",
            "412                33.8                21.4               68.0  \n",
            "413                32.6                21.6               93.2  \n",
            "414                32.2                21.8               34.1  \n",
            "415                32.6                22.0               14.9  \n",
            "\n",
            "[416 rows x 24 columns]\n"
          ]
        }
      ]
    },
    {
      "cell_type": "markdown",
      "source": [
        "#1.Número de registros y variables."
      ],
      "metadata": {
        "id": "LT89wYMtGGov"
      }
    },
    {
      "cell_type": "code",
      "source": [
        "\n",
        "datos.shape\n"
      ],
      "metadata": {
        "colab": {
          "base_uri": "https://localhost:8080/"
        },
        "id": "P04KeiWzE_jI",
        "outputId": "c84200d0-eec1-4811-aac9-90e0c950648d"
      },
      "execution_count": null,
      "outputs": [
        {
          "output_type": "execute_result",
          "data": {
            "text/plain": [
              "(416, 24)"
            ]
          },
          "metadata": {},
          "execution_count": 87
        }
      ]
    },
    {
      "cell_type": "code",
      "source": [
        "datos.columns"
      ],
      "metadata": {
        "colab": {
          "base_uri": "https://localhost:8080/"
        },
        "id": "JcHfEqKfFqRA",
        "outputId": "f287ae90-f16c-4a56-c314-807eb32d7d07"
      },
      "execution_count": null,
      "outputs": [
        {
          "output_type": "execute_result",
          "data": {
            "text/plain": [
              "Index(['city', 'year', 'weekofyear', 'week_start_date', 'ndvi_ne', 'ndvi_nw',\n",
              "       'ndvi_se', 'ndvi_sw', 'precipitation_amt_mm', 'reanalysis_air_temp_k',\n",
              "       'reanalysis_avg_temp_k', 'reanalysis_dew_point_temp_k',\n",
              "       'reanalysis_max_air_temp_k', 'reanalysis_min_air_temp_k',\n",
              "       'reanalysis_precip_amt_kg_per_m2',\n",
              "       'reanalysis_relative_humidity_percent', 'reanalysis_sat_precip_amt_mm',\n",
              "       'reanalysis_specific_humidity_g_per_kg', 'reanalysis_tdtr_k',\n",
              "       'station_avg_temp_c', 'station_diur_temp_rng_c', 'station_max_temp_c',\n",
              "       'station_min_temp_c', 'station_precip_mm'],\n",
              "      dtype='object')"
            ]
          },
          "metadata": {},
          "execution_count": 88
        }
      ]
    },
    {
      "cell_type": "code",
      "source": [
        "datos.info()"
      ],
      "metadata": {
        "colab": {
          "base_uri": "https://localhost:8080/"
        },
        "id": "SFQxIbAQF6H4",
        "outputId": "7f6ae558-43d2-4dcf-97a2-cbd5fb05fd58"
      },
      "execution_count": null,
      "outputs": [
        {
          "output_type": "stream",
          "name": "stdout",
          "text": [
            "<class 'pandas.core.frame.DataFrame'>\n",
            "RangeIndex: 416 entries, 0 to 415\n",
            "Data columns (total 24 columns):\n",
            " #   Column                                 Non-Null Count  Dtype  \n",
            "---  ------                                 --------------  -----  \n",
            " 0   city                                   416 non-null    object \n",
            " 1   year                                   416 non-null    int64  \n",
            " 2   weekofyear                             416 non-null    int64  \n",
            " 3   week_start_date                        416 non-null    object \n",
            " 4   ndvi_ne                                373 non-null    float64\n",
            " 5   ndvi_nw                                405 non-null    float64\n",
            " 6   ndvi_se                                415 non-null    float64\n",
            " 7   ndvi_sw                                415 non-null    float64\n",
            " 8   precipitation_amt_mm                   414 non-null    float64\n",
            " 9   reanalysis_air_temp_k                  414 non-null    float64\n",
            " 10  reanalysis_avg_temp_k                  414 non-null    float64\n",
            " 11  reanalysis_dew_point_temp_k            414 non-null    float64\n",
            " 12  reanalysis_max_air_temp_k              414 non-null    float64\n",
            " 13  reanalysis_min_air_temp_k              414 non-null    float64\n",
            " 14  reanalysis_precip_amt_kg_per_m2        414 non-null    float64\n",
            " 15  reanalysis_relative_humidity_percent   414 non-null    float64\n",
            " 16  reanalysis_sat_precip_amt_mm           414 non-null    float64\n",
            " 17  reanalysis_specific_humidity_g_per_kg  414 non-null    float64\n",
            " 18  reanalysis_tdtr_k                      414 non-null    float64\n",
            " 19  station_avg_temp_c                     404 non-null    float64\n",
            " 20  station_diur_temp_rng_c                404 non-null    float64\n",
            " 21  station_max_temp_c                     413 non-null    float64\n",
            " 22  station_min_temp_c                     407 non-null    float64\n",
            " 23  station_precip_mm                      411 non-null    float64\n",
            "dtypes: float64(20), int64(2), object(2)\n",
            "memory usage: 78.1+ KB\n"
          ]
        }
      ]
    },
    {
      "cell_type": "markdown",
      "source": [
        "# 2.Descripción de las variables."
      ],
      "metadata": {
        "id": "e5xLoTwGGELZ"
      }
    },
    {
      "cell_type": "code",
      "source": [
        "datos.describe().T"
      ],
      "metadata": {
        "colab": {
          "base_uri": "https://localhost:8080/",
          "height": 739
        },
        "id": "2_AYMmpXHDuW",
        "outputId": "dc88b547-0978-4514-ede9-ee9887fd0653"
      },
      "execution_count": null,
      "outputs": [
        {
          "output_type": "execute_result",
          "data": {
            "text/plain": [
              "                                       count         mean        std  \\\n",
              "year                                   416.0  2010.766827   1.434835   \n",
              "weekofyear                             416.0    26.439904  14.978257   \n",
              "ndvi_ne                                373.0     0.126050   0.164353   \n",
              "ndvi_nw                                405.0     0.126803   0.141420   \n",
              "ndvi_se                                415.0     0.207702   0.079102   \n",
              "ndvi_sw                                415.0     0.201721   0.092028   \n",
              "precipitation_amt_mm                   414.0    38.354324  35.171126   \n",
              "reanalysis_air_temp_k                  414.0   298.818295   1.469501   \n",
              "reanalysis_avg_temp_k                  414.0   299.353071   1.306233   \n",
              "reanalysis_dew_point_temp_k            414.0   295.419179   1.523099   \n",
              "reanalysis_max_air_temp_k              414.0   303.623430   3.101817   \n",
              "reanalysis_min_air_temp_k              414.0   295.743478   2.761109   \n",
              "reanalysis_precip_amt_kg_per_m2        414.0    42.171135  48.909514   \n",
              "reanalysis_relative_humidity_percent   414.0    82.499810   7.378243   \n",
              "reanalysis_sat_precip_amt_mm           414.0    38.354324  35.171126   \n",
              "reanalysis_specific_humidity_g_per_kg  414.0    16.927088   1.557868   \n",
              "reanalysis_tdtr_k                      414.0     5.124569   3.542870   \n",
              "station_avg_temp_c                     404.0    27.369587   1.232608   \n",
              "station_diur_temp_rng_c                404.0     7.810991   2.449718   \n",
              "station_max_temp_c                     413.0    32.534625   1.920429   \n",
              "station_min_temp_c                     407.0    22.368550   1.731437   \n",
              "station_precip_mm                      411.0    34.278589  34.655966   \n",
              "\n",
              "                                               min          25%          50%  \\\n",
              "year                                   2008.000000  2010.000000  2011.000000   \n",
              "weekofyear                                1.000000    13.750000    26.000000   \n",
              "ndvi_ne                                  -0.463400    -0.001500     0.110100   \n",
              "ndvi_nw                                  -0.211800     0.015975     0.088700   \n",
              "ndvi_se                                   0.006200     0.148670     0.204171   \n",
              "ndvi_sw                                  -0.014671     0.134079     0.186471   \n",
              "precipitation_amt_mm                      0.000000     8.175000    31.455000   \n",
              "reanalysis_air_temp_k                   294.554286   297.751429   298.547143   \n",
              "reanalysis_avg_temp_k                   295.235714   298.323214   299.328571   \n",
              "reanalysis_dew_point_temp_k             290.818571   294.335714   295.825000   \n",
              "reanalysis_max_air_temp_k               298.200000   301.425000   302.750000   \n",
              "reanalysis_min_air_temp_k               286.200000   293.500000   296.300000   \n",
              "reanalysis_precip_amt_kg_per_m2           0.000000     9.430000    25.850000   \n",
              "reanalysis_relative_humidity_percent     64.920000    77.397143    80.330000   \n",
              "reanalysis_sat_precip_amt_mm              0.000000     8.175000    31.455000   \n",
              "reanalysis_specific_humidity_g_per_kg    12.537143    15.792857    17.337143   \n",
              "reanalysis_tdtr_k                         1.485714     2.446429     2.914286   \n",
              "station_avg_temp_c                       24.157143    26.514286    27.483333   \n",
              "station_diur_temp_rng_c                   4.042857     5.928571     6.642857   \n",
              "station_max_temp_c                       27.200000    31.100000    32.800000   \n",
              "station_min_temp_c                       14.200000    21.200000    22.200000   \n",
              "station_precip_mm                         0.000000     9.100000    23.600000   \n",
              "\n",
              "                                               75%          max  \n",
              "year                                   2012.000000  2013.000000  \n",
              "weekofyear                               39.000000    53.000000  \n",
              "ndvi_ne                                   0.263329     0.500400  \n",
              "ndvi_nw                                   0.242400     0.649000  \n",
              "ndvi_se                                   0.254871     0.453043  \n",
              "ndvi_sw                                   0.253243     0.529043  \n",
              "precipitation_amt_mm                     57.772500   169.340000  \n",
              "reanalysis_air_temp_k                   300.240357   301.935714  \n",
              "reanalysis_avg_temp_k                   300.521429   303.328571  \n",
              "reanalysis_dew_point_temp_k             296.643571   297.794286  \n",
              "reanalysis_max_air_temp_k               305.800000   314.100000  \n",
              "reanalysis_min_air_temp_k               298.275000   299.700000  \n",
              "reanalysis_precip_amt_kg_per_m2          56.475000   301.400000  \n",
              "reanalysis_relative_humidity_percent     88.328929    97.982857  \n",
              "reanalysis_sat_precip_amt_mm             57.772500   169.340000  \n",
              "reanalysis_specific_humidity_g_per_kg    18.174643    19.598571  \n",
              "reanalysis_tdtr_k                         8.171429    14.485714  \n",
              "station_avg_temp_c                       28.319048    30.271429  \n",
              "station_diur_temp_rng_c                   9.812500    14.725000  \n",
              "station_max_temp_c                       33.900000    38.400000  \n",
              "station_min_temp_c                       23.300000    26.700000  \n",
              "station_precip_mm                        47.750000   212.000000  "
            ],
            "text/html": [
              "\n",
              "  <div id=\"df-aadbcc72-d16d-41fe-878f-88e52a502ef2\">\n",
              "    <div class=\"colab-df-container\">\n",
              "      <div>\n",
              "<style scoped>\n",
              "    .dataframe tbody tr th:only-of-type {\n",
              "        vertical-align: middle;\n",
              "    }\n",
              "\n",
              "    .dataframe tbody tr th {\n",
              "        vertical-align: top;\n",
              "    }\n",
              "\n",
              "    .dataframe thead th {\n",
              "        text-align: right;\n",
              "    }\n",
              "</style>\n",
              "<table border=\"1\" class=\"dataframe\">\n",
              "  <thead>\n",
              "    <tr style=\"text-align: right;\">\n",
              "      <th></th>\n",
              "      <th>count</th>\n",
              "      <th>mean</th>\n",
              "      <th>std</th>\n",
              "      <th>min</th>\n",
              "      <th>25%</th>\n",
              "      <th>50%</th>\n",
              "      <th>75%</th>\n",
              "      <th>max</th>\n",
              "    </tr>\n",
              "  </thead>\n",
              "  <tbody>\n",
              "    <tr>\n",
              "      <th>year</th>\n",
              "      <td>416.0</td>\n",
              "      <td>2010.766827</td>\n",
              "      <td>1.434835</td>\n",
              "      <td>2008.000000</td>\n",
              "      <td>2010.000000</td>\n",
              "      <td>2011.000000</td>\n",
              "      <td>2012.000000</td>\n",
              "      <td>2013.000000</td>\n",
              "    </tr>\n",
              "    <tr>\n",
              "      <th>weekofyear</th>\n",
              "      <td>416.0</td>\n",
              "      <td>26.439904</td>\n",
              "      <td>14.978257</td>\n",
              "      <td>1.000000</td>\n",
              "      <td>13.750000</td>\n",
              "      <td>26.000000</td>\n",
              "      <td>39.000000</td>\n",
              "      <td>53.000000</td>\n",
              "    </tr>\n",
              "    <tr>\n",
              "      <th>ndvi_ne</th>\n",
              "      <td>373.0</td>\n",
              "      <td>0.126050</td>\n",
              "      <td>0.164353</td>\n",
              "      <td>-0.463400</td>\n",
              "      <td>-0.001500</td>\n",
              "      <td>0.110100</td>\n",
              "      <td>0.263329</td>\n",
              "      <td>0.500400</td>\n",
              "    </tr>\n",
              "    <tr>\n",
              "      <th>ndvi_nw</th>\n",
              "      <td>405.0</td>\n",
              "      <td>0.126803</td>\n",
              "      <td>0.141420</td>\n",
              "      <td>-0.211800</td>\n",
              "      <td>0.015975</td>\n",
              "      <td>0.088700</td>\n",
              "      <td>0.242400</td>\n",
              "      <td>0.649000</td>\n",
              "    </tr>\n",
              "    <tr>\n",
              "      <th>ndvi_se</th>\n",
              "      <td>415.0</td>\n",
              "      <td>0.207702</td>\n",
              "      <td>0.079102</td>\n",
              "      <td>0.006200</td>\n",
              "      <td>0.148670</td>\n",
              "      <td>0.204171</td>\n",
              "      <td>0.254871</td>\n",
              "      <td>0.453043</td>\n",
              "    </tr>\n",
              "    <tr>\n",
              "      <th>ndvi_sw</th>\n",
              "      <td>415.0</td>\n",
              "      <td>0.201721</td>\n",
              "      <td>0.092028</td>\n",
              "      <td>-0.014671</td>\n",
              "      <td>0.134079</td>\n",
              "      <td>0.186471</td>\n",
              "      <td>0.253243</td>\n",
              "      <td>0.529043</td>\n",
              "    </tr>\n",
              "    <tr>\n",
              "      <th>precipitation_amt_mm</th>\n",
              "      <td>414.0</td>\n",
              "      <td>38.354324</td>\n",
              "      <td>35.171126</td>\n",
              "      <td>0.000000</td>\n",
              "      <td>8.175000</td>\n",
              "      <td>31.455000</td>\n",
              "      <td>57.772500</td>\n",
              "      <td>169.340000</td>\n",
              "    </tr>\n",
              "    <tr>\n",
              "      <th>reanalysis_air_temp_k</th>\n",
              "      <td>414.0</td>\n",
              "      <td>298.818295</td>\n",
              "      <td>1.469501</td>\n",
              "      <td>294.554286</td>\n",
              "      <td>297.751429</td>\n",
              "      <td>298.547143</td>\n",
              "      <td>300.240357</td>\n",
              "      <td>301.935714</td>\n",
              "    </tr>\n",
              "    <tr>\n",
              "      <th>reanalysis_avg_temp_k</th>\n",
              "      <td>414.0</td>\n",
              "      <td>299.353071</td>\n",
              "      <td>1.306233</td>\n",
              "      <td>295.235714</td>\n",
              "      <td>298.323214</td>\n",
              "      <td>299.328571</td>\n",
              "      <td>300.521429</td>\n",
              "      <td>303.328571</td>\n",
              "    </tr>\n",
              "    <tr>\n",
              "      <th>reanalysis_dew_point_temp_k</th>\n",
              "      <td>414.0</td>\n",
              "      <td>295.419179</td>\n",
              "      <td>1.523099</td>\n",
              "      <td>290.818571</td>\n",
              "      <td>294.335714</td>\n",
              "      <td>295.825000</td>\n",
              "      <td>296.643571</td>\n",
              "      <td>297.794286</td>\n",
              "    </tr>\n",
              "    <tr>\n",
              "      <th>reanalysis_max_air_temp_k</th>\n",
              "      <td>414.0</td>\n",
              "      <td>303.623430</td>\n",
              "      <td>3.101817</td>\n",
              "      <td>298.200000</td>\n",
              "      <td>301.425000</td>\n",
              "      <td>302.750000</td>\n",
              "      <td>305.800000</td>\n",
              "      <td>314.100000</td>\n",
              "    </tr>\n",
              "    <tr>\n",
              "      <th>reanalysis_min_air_temp_k</th>\n",
              "      <td>414.0</td>\n",
              "      <td>295.743478</td>\n",
              "      <td>2.761109</td>\n",
              "      <td>286.200000</td>\n",
              "      <td>293.500000</td>\n",
              "      <td>296.300000</td>\n",
              "      <td>298.275000</td>\n",
              "      <td>299.700000</td>\n",
              "    </tr>\n",
              "    <tr>\n",
              "      <th>reanalysis_precip_amt_kg_per_m2</th>\n",
              "      <td>414.0</td>\n",
              "      <td>42.171135</td>\n",
              "      <td>48.909514</td>\n",
              "      <td>0.000000</td>\n",
              "      <td>9.430000</td>\n",
              "      <td>25.850000</td>\n",
              "      <td>56.475000</td>\n",
              "      <td>301.400000</td>\n",
              "    </tr>\n",
              "    <tr>\n",
              "      <th>reanalysis_relative_humidity_percent</th>\n",
              "      <td>414.0</td>\n",
              "      <td>82.499810</td>\n",
              "      <td>7.378243</td>\n",
              "      <td>64.920000</td>\n",
              "      <td>77.397143</td>\n",
              "      <td>80.330000</td>\n",
              "      <td>88.328929</td>\n",
              "      <td>97.982857</td>\n",
              "    </tr>\n",
              "    <tr>\n",
              "      <th>reanalysis_sat_precip_amt_mm</th>\n",
              "      <td>414.0</td>\n",
              "      <td>38.354324</td>\n",
              "      <td>35.171126</td>\n",
              "      <td>0.000000</td>\n",
              "      <td>8.175000</td>\n",
              "      <td>31.455000</td>\n",
              "      <td>57.772500</td>\n",
              "      <td>169.340000</td>\n",
              "    </tr>\n",
              "    <tr>\n",
              "      <th>reanalysis_specific_humidity_g_per_kg</th>\n",
              "      <td>414.0</td>\n",
              "      <td>16.927088</td>\n",
              "      <td>1.557868</td>\n",
              "      <td>12.537143</td>\n",
              "      <td>15.792857</td>\n",
              "      <td>17.337143</td>\n",
              "      <td>18.174643</td>\n",
              "      <td>19.598571</td>\n",
              "    </tr>\n",
              "    <tr>\n",
              "      <th>reanalysis_tdtr_k</th>\n",
              "      <td>414.0</td>\n",
              "      <td>5.124569</td>\n",
              "      <td>3.542870</td>\n",
              "      <td>1.485714</td>\n",
              "      <td>2.446429</td>\n",
              "      <td>2.914286</td>\n",
              "      <td>8.171429</td>\n",
              "      <td>14.485714</td>\n",
              "    </tr>\n",
              "    <tr>\n",
              "      <th>station_avg_temp_c</th>\n",
              "      <td>404.0</td>\n",
              "      <td>27.369587</td>\n",
              "      <td>1.232608</td>\n",
              "      <td>24.157143</td>\n",
              "      <td>26.514286</td>\n",
              "      <td>27.483333</td>\n",
              "      <td>28.319048</td>\n",
              "      <td>30.271429</td>\n",
              "    </tr>\n",
              "    <tr>\n",
              "      <th>station_diur_temp_rng_c</th>\n",
              "      <td>404.0</td>\n",
              "      <td>7.810991</td>\n",
              "      <td>2.449718</td>\n",
              "      <td>4.042857</td>\n",
              "      <td>5.928571</td>\n",
              "      <td>6.642857</td>\n",
              "      <td>9.812500</td>\n",
              "      <td>14.725000</td>\n",
              "    </tr>\n",
              "    <tr>\n",
              "      <th>station_max_temp_c</th>\n",
              "      <td>413.0</td>\n",
              "      <td>32.534625</td>\n",
              "      <td>1.920429</td>\n",
              "      <td>27.200000</td>\n",
              "      <td>31.100000</td>\n",
              "      <td>32.800000</td>\n",
              "      <td>33.900000</td>\n",
              "      <td>38.400000</td>\n",
              "    </tr>\n",
              "    <tr>\n",
              "      <th>station_min_temp_c</th>\n",
              "      <td>407.0</td>\n",
              "      <td>22.368550</td>\n",
              "      <td>1.731437</td>\n",
              "      <td>14.200000</td>\n",
              "      <td>21.200000</td>\n",
              "      <td>22.200000</td>\n",
              "      <td>23.300000</td>\n",
              "      <td>26.700000</td>\n",
              "    </tr>\n",
              "    <tr>\n",
              "      <th>station_precip_mm</th>\n",
              "      <td>411.0</td>\n",
              "      <td>34.278589</td>\n",
              "      <td>34.655966</td>\n",
              "      <td>0.000000</td>\n",
              "      <td>9.100000</td>\n",
              "      <td>23.600000</td>\n",
              "      <td>47.750000</td>\n",
              "      <td>212.000000</td>\n",
              "    </tr>\n",
              "  </tbody>\n",
              "</table>\n",
              "</div>\n",
              "      <button class=\"colab-df-convert\" onclick=\"convertToInteractive('df-aadbcc72-d16d-41fe-878f-88e52a502ef2')\"\n",
              "              title=\"Convert this dataframe to an interactive table.\"\n",
              "              style=\"display:none;\">\n",
              "        \n",
              "  <svg xmlns=\"http://www.w3.org/2000/svg\" height=\"24px\"viewBox=\"0 0 24 24\"\n",
              "       width=\"24px\">\n",
              "    <path d=\"M0 0h24v24H0V0z\" fill=\"none\"/>\n",
              "    <path d=\"M18.56 5.44l.94 2.06.94-2.06 2.06-.94-2.06-.94-.94-2.06-.94 2.06-2.06.94zm-11 1L8.5 8.5l.94-2.06 2.06-.94-2.06-.94L8.5 2.5l-.94 2.06-2.06.94zm10 10l.94 2.06.94-2.06 2.06-.94-2.06-.94-.94-2.06-.94 2.06-2.06.94z\"/><path d=\"M17.41 7.96l-1.37-1.37c-.4-.4-.92-.59-1.43-.59-.52 0-1.04.2-1.43.59L10.3 9.45l-7.72 7.72c-.78.78-.78 2.05 0 2.83L4 21.41c.39.39.9.59 1.41.59.51 0 1.02-.2 1.41-.59l7.78-7.78 2.81-2.81c.8-.78.8-2.07 0-2.86zM5.41 20L4 18.59l7.72-7.72 1.47 1.35L5.41 20z\"/>\n",
              "  </svg>\n",
              "      </button>\n",
              "      \n",
              "  <style>\n",
              "    .colab-df-container {\n",
              "      display:flex;\n",
              "      flex-wrap:wrap;\n",
              "      gap: 12px;\n",
              "    }\n",
              "\n",
              "    .colab-df-convert {\n",
              "      background-color: #E8F0FE;\n",
              "      border: none;\n",
              "      border-radius: 50%;\n",
              "      cursor: pointer;\n",
              "      display: none;\n",
              "      fill: #1967D2;\n",
              "      height: 32px;\n",
              "      padding: 0 0 0 0;\n",
              "      width: 32px;\n",
              "    }\n",
              "\n",
              "    .colab-df-convert:hover {\n",
              "      background-color: #E2EBFA;\n",
              "      box-shadow: 0px 1px 2px rgba(60, 64, 67, 0.3), 0px 1px 3px 1px rgba(60, 64, 67, 0.15);\n",
              "      fill: #174EA6;\n",
              "    }\n",
              "\n",
              "    [theme=dark] .colab-df-convert {\n",
              "      background-color: #3B4455;\n",
              "      fill: #D2E3FC;\n",
              "    }\n",
              "\n",
              "    [theme=dark] .colab-df-convert:hover {\n",
              "      background-color: #434B5C;\n",
              "      box-shadow: 0px 1px 3px 1px rgba(0, 0, 0, 0.15);\n",
              "      filter: drop-shadow(0px 1px 2px rgba(0, 0, 0, 0.3));\n",
              "      fill: #FFFFFF;\n",
              "    }\n",
              "  </style>\n",
              "\n",
              "      <script>\n",
              "        const buttonEl =\n",
              "          document.querySelector('#df-aadbcc72-d16d-41fe-878f-88e52a502ef2 button.colab-df-convert');\n",
              "        buttonEl.style.display =\n",
              "          google.colab.kernel.accessAllowed ? 'block' : 'none';\n",
              "\n",
              "        async function convertToInteractive(key) {\n",
              "          const element = document.querySelector('#df-aadbcc72-d16d-41fe-878f-88e52a502ef2');\n",
              "          const dataTable =\n",
              "            await google.colab.kernel.invokeFunction('convertToInteractive',\n",
              "                                                     [key], {});\n",
              "          if (!dataTable) return;\n",
              "\n",
              "          const docLinkHtml = 'Like what you see? Visit the ' +\n",
              "            '<a target=\"_blank\" href=https://colab.research.google.com/notebooks/data_table.ipynb>data table notebook</a>'\n",
              "            + ' to learn more about interactive tables.';\n",
              "          element.innerHTML = '';\n",
              "          dataTable['output_type'] = 'display_data';\n",
              "          await google.colab.output.renderOutput(dataTable, element);\n",
              "          const docLink = document.createElement('div');\n",
              "          docLink.innerHTML = docLinkHtml;\n",
              "          element.appendChild(docLink);\n",
              "        }\n",
              "      </script>\n",
              "    </div>\n",
              "  </div>\n",
              "  "
            ]
          },
          "metadata": {},
          "execution_count": 90
        }
      ]
    },
    {
      "cell_type": "markdown",
      "source": [
        "# 3.Tipo de variables"
      ],
      "metadata": {
        "id": "wSxsUIqiHggA"
      }
    },
    {
      "cell_type": "code",
      "source": [
        "tipos_variables = datos.dtypes\n",
        "print(tipos_variables)"
      ],
      "metadata": {
        "colab": {
          "base_uri": "https://localhost:8080/"
        },
        "id": "59s1F-XrIcC6",
        "outputId": "7e2bde90-491c-477f-9ed7-f951f2769f66"
      },
      "execution_count": null,
      "outputs": [
        {
          "output_type": "stream",
          "name": "stdout",
          "text": [
            "city                                      object\n",
            "year                                       int64\n",
            "weekofyear                                 int64\n",
            "week_start_date                           object\n",
            "ndvi_ne                                  float64\n",
            "ndvi_nw                                  float64\n",
            "ndvi_se                                  float64\n",
            "ndvi_sw                                  float64\n",
            "precipitation_amt_mm                     float64\n",
            "reanalysis_air_temp_k                    float64\n",
            "reanalysis_avg_temp_k                    float64\n",
            "reanalysis_dew_point_temp_k              float64\n",
            "reanalysis_max_air_temp_k                float64\n",
            "reanalysis_min_air_temp_k                float64\n",
            "reanalysis_precip_amt_kg_per_m2          float64\n",
            "reanalysis_relative_humidity_percent     float64\n",
            "reanalysis_sat_precip_amt_mm             float64\n",
            "reanalysis_specific_humidity_g_per_kg    float64\n",
            "reanalysis_tdtr_k                        float64\n",
            "station_avg_temp_c                       float64\n",
            "station_diur_temp_rng_c                  float64\n",
            "station_max_temp_c                       float64\n",
            "station_min_temp_c                       float64\n",
            "station_precip_mm                        float64\n",
            "dtype: object\n"
          ]
        }
      ]
    },
    {
      "cell_type": "markdown",
      "source": [
        "4. Identificar porcentaje de valores nulos.\n"
      ],
      "metadata": {
        "id": "07wQHnBRIwpW"
      }
    },
    {
      "cell_type": "code",
      "source": [
        "datos = datos.isnull()\n",
        "print(datos)"
      ],
      "metadata": {
        "colab": {
          "base_uri": "https://localhost:8080/"
        },
        "id": "yiqZmCaMJNTE",
        "outputId": "ca49071b-abc8-4279-a48a-366286bb13d5"
      },
      "execution_count": null,
      "outputs": [
        {
          "output_type": "stream",
          "name": "stdout",
          "text": [
            "      city   year  weekofyear  week_start_date  ndvi_ne  ndvi_nw  ndvi_se  \\\n",
            "0    False  False       False            False    False    False    False   \n",
            "1    False  False       False            False    False    False    False   \n",
            "2    False  False       False            False    False     True    False   \n",
            "3    False  False       False            False     True    False    False   \n",
            "4    False  False       False            False    False    False    False   \n",
            "..     ...    ...         ...              ...      ...      ...      ...   \n",
            "411  False  False       False            False    False    False    False   \n",
            "412  False  False       False            False    False    False    False   \n",
            "413  False  False       False            False    False    False    False   \n",
            "414  False  False       False            False    False    False    False   \n",
            "415  False  False       False            False    False    False    False   \n",
            "\n",
            "     ndvi_sw  precipitation_amt_mm  reanalysis_air_temp_k  ...  \\\n",
            "0      False                 False                  False  ...   \n",
            "1      False                 False                  False  ...   \n",
            "2      False                 False                  False  ...   \n",
            "3      False                 False                  False  ...   \n",
            "4      False                 False                  False  ...   \n",
            "..       ...                   ...                    ...  ...   \n",
            "411    False                 False                  False  ...   \n",
            "412    False                 False                  False  ...   \n",
            "413    False                 False                  False  ...   \n",
            "414    False                 False                  False  ...   \n",
            "415    False                 False                  False  ...   \n",
            "\n",
            "     reanalysis_precip_amt_kg_per_m2  reanalysis_relative_humidity_percent  \\\n",
            "0                              False                                 False   \n",
            "1                              False                                 False   \n",
            "2                              False                                 False   \n",
            "3                              False                                 False   \n",
            "4                              False                                 False   \n",
            "..                               ...                                   ...   \n",
            "411                            False                                 False   \n",
            "412                            False                                 False   \n",
            "413                            False                                 False   \n",
            "414                            False                                 False   \n",
            "415                            False                                 False   \n",
            "\n",
            "     reanalysis_sat_precip_amt_mm  reanalysis_specific_humidity_g_per_kg  \\\n",
            "0                           False                                  False   \n",
            "1                           False                                  False   \n",
            "2                           False                                  False   \n",
            "3                           False                                  False   \n",
            "4                           False                                  False   \n",
            "..                            ...                                    ...   \n",
            "411                         False                                  False   \n",
            "412                         False                                  False   \n",
            "413                         False                                  False   \n",
            "414                         False                                  False   \n",
            "415                         False                                  False   \n",
            "\n",
            "     reanalysis_tdtr_k  station_avg_temp_c  station_diur_temp_rng_c  \\\n",
            "0                False               False                    False   \n",
            "1                False               False                    False   \n",
            "2                False               False                    False   \n",
            "3                False               False                    False   \n",
            "4                False               False                    False   \n",
            "..                 ...                 ...                      ...   \n",
            "411              False               False                    False   \n",
            "412              False               False                    False   \n",
            "413              False               False                    False   \n",
            "414              False               False                    False   \n",
            "415              False               False                    False   \n",
            "\n",
            "     station_max_temp_c  station_min_temp_c  station_precip_mm  \n",
            "0                 False               False              False  \n",
            "1                 False               False              False  \n",
            "2                 False               False              False  \n",
            "3                 False               False              False  \n",
            "4                 False               False              False  \n",
            "..                  ...                 ...                ...  \n",
            "411               False               False              False  \n",
            "412               False               False              False  \n",
            "413               False               False              False  \n",
            "414               False               False              False  \n",
            "415               False               False              False  \n",
            "\n",
            "[416 rows x 24 columns]\n"
          ]
        }
      ]
    },
    {
      "cell_type": "code",
      "source": [
        "# Calcular el porcentaje de valores nulos en cada columna\n",
        "porcentaje_nulos = datos.isnull().mean() * 100\n",
        "\n",
        "# Mostrar el porcentaje de valores nulos\n",
        "print(porcentaje_nulos)"
      ],
      "metadata": {
        "colab": {
          "base_uri": "https://localhost:8080/"
        },
        "id": "B1R_GuN0UnYu",
        "outputId": "afa3e122-f286-4919-a3d1-3bd8a6c0b2a6"
      },
      "execution_count": null,
      "outputs": [
        {
          "output_type": "stream",
          "name": "stdout",
          "text": [
            "city                                     0.0\n",
            "year                                     0.0\n",
            "weekofyear                               0.0\n",
            "week_start_date                          0.0\n",
            "ndvi_ne                                  0.0\n",
            "ndvi_nw                                  0.0\n",
            "ndvi_se                                  0.0\n",
            "ndvi_sw                                  0.0\n",
            "precipitation_amt_mm                     0.0\n",
            "reanalysis_air_temp_k                    0.0\n",
            "reanalysis_avg_temp_k                    0.0\n",
            "reanalysis_dew_point_temp_k              0.0\n",
            "reanalysis_max_air_temp_k                0.0\n",
            "reanalysis_min_air_temp_k                0.0\n",
            "reanalysis_precip_amt_kg_per_m2          0.0\n",
            "reanalysis_relative_humidity_percent     0.0\n",
            "reanalysis_sat_precip_amt_mm             0.0\n",
            "reanalysis_specific_humidity_g_per_kg    0.0\n",
            "reanalysis_tdtr_k                        0.0\n",
            "station_avg_temp_c                       0.0\n",
            "station_diur_temp_rng_c                  0.0\n",
            "station_max_temp_c                       0.0\n",
            "station_min_temp_c                       0.0\n",
            "station_precip_mm                        0.0\n",
            "dtype: float64\n"
          ]
        }
      ]
    },
    {
      "cell_type": "code",
      "source": [
        "datos.isnull().sum()"
      ],
      "metadata": {
        "colab": {
          "base_uri": "https://localhost:8080/"
        },
        "id": "kvqMLlhbKHfx",
        "outputId": "11bcc489-a21e-4df5-de55-5bfea64eca12"
      },
      "execution_count": null,
      "outputs": [
        {
          "output_type": "execute_result",
          "data": {
            "text/plain": [
              "city                                     0\n",
              "year                                     0\n",
              "weekofyear                               0\n",
              "week_start_date                          0\n",
              "ndvi_ne                                  0\n",
              "ndvi_nw                                  0\n",
              "ndvi_se                                  0\n",
              "ndvi_sw                                  0\n",
              "precipitation_amt_mm                     0\n",
              "reanalysis_air_temp_k                    0\n",
              "reanalysis_avg_temp_k                    0\n",
              "reanalysis_dew_point_temp_k              0\n",
              "reanalysis_max_air_temp_k                0\n",
              "reanalysis_min_air_temp_k                0\n",
              "reanalysis_precip_amt_kg_per_m2          0\n",
              "reanalysis_relative_humidity_percent     0\n",
              "reanalysis_sat_precip_amt_mm             0\n",
              "reanalysis_specific_humidity_g_per_kg    0\n",
              "reanalysis_tdtr_k                        0\n",
              "station_avg_temp_c                       0\n",
              "station_diur_temp_rng_c                  0\n",
              "station_max_temp_c                       0\n",
              "station_min_temp_c                       0\n",
              "station_precip_mm                        0\n",
              "dtype: int64"
            ]
          },
          "metadata": {},
          "execution_count": 94
        }
      ]
    },
    {
      "cell_type": "code",
      "source": [
        "datos.isnull().sum()/datos.shape[0]*100"
      ],
      "metadata": {
        "colab": {
          "base_uri": "https://localhost:8080/"
        },
        "id": "_Z5YuII-KWDE",
        "outputId": "0cd0abd2-975f-4457-fef5-02dc9fe7610c"
      },
      "execution_count": null,
      "outputs": [
        {
          "output_type": "execute_result",
          "data": {
            "text/plain": [
              "city                                     0.0\n",
              "year                                     0.0\n",
              "weekofyear                               0.0\n",
              "week_start_date                          0.0\n",
              "ndvi_ne                                  0.0\n",
              "ndvi_nw                                  0.0\n",
              "ndvi_se                                  0.0\n",
              "ndvi_sw                                  0.0\n",
              "precipitation_amt_mm                     0.0\n",
              "reanalysis_air_temp_k                    0.0\n",
              "reanalysis_avg_temp_k                    0.0\n",
              "reanalysis_dew_point_temp_k              0.0\n",
              "reanalysis_max_air_temp_k                0.0\n",
              "reanalysis_min_air_temp_k                0.0\n",
              "reanalysis_precip_amt_kg_per_m2          0.0\n",
              "reanalysis_relative_humidity_percent     0.0\n",
              "reanalysis_sat_precip_amt_mm             0.0\n",
              "reanalysis_specific_humidity_g_per_kg    0.0\n",
              "reanalysis_tdtr_k                        0.0\n",
              "station_avg_temp_c                       0.0\n",
              "station_diur_temp_rng_c                  0.0\n",
              "station_max_temp_c                       0.0\n",
              "station_min_temp_c                       0.0\n",
              "station_precip_mm                        0.0\n",
              "dtype: float64"
            ]
          },
          "metadata": {},
          "execution_count": 95
        }
      ]
    },
    {
      "cell_type": "code",
      "source": [
        "sns.heatmap(datos.isnull(), cbar = False).set_title(\"Mapa de calor de valores faltantes\")"
      ],
      "metadata": {
        "colab": {
          "base_uri": "https://localhost:8080/",
          "height": 723
        },
        "id": "qoAFig3cRwFv",
        "outputId": "a6b6d0a6-beeb-453c-bcc1-96ca75a6757f"
      },
      "execution_count": null,
      "outputs": [
        {
          "output_type": "execute_result",
          "data": {
            "text/plain": [
              "Text(0.5, 1.0, 'Mapa de calor de valores faltantes')"
            ]
          },
          "metadata": {},
          "execution_count": 96
        },
        {
          "output_type": "display_data",
          "data": {
            "text/plain": [
              "<Figure size 640x480 with 1 Axes>"
            ],
            "image/png": "[encoded data removed]"
          },
          "metadata": {}
        }
      ]
    },
    {
      "cell_type": "markdown",
      "source": [
        "5. Identificar valores atípicos.\n"
      ],
      "metadata": {
        "id": "amwqlgpbI1fM"
      }
    },
    {
      "cell_type": "code",
      "source": [
        "datos.boxplot()\n",
        "plt.show()"
      ],
      "metadata": {
        "colab": {
          "base_uri": "https://localhost:8080/",
          "height": 430
        },
        "id": "TplN41LjR-MF",
        "outputId": "615063ca-2f45-4883-a5aa-7758b573f89c"
      },
      "execution_count": null,
      "outputs": [
        {
          "output_type": "display_data",
          "data": {
            "text/plain": [
              "<Figure size 640x480 with 1 Axes>"
            ],
            "image/png": "[encoded data removed]"
          },
          "metadata": {}
        }
      ]
    },
    {
      "cell_type": "markdown",
      "source": [
        "  6.Tratamiento de valores atípicos y nulos."
      ],
      "metadata": {
        "id": "nBAGocxKI7kl"
      }
    }
  ]
}